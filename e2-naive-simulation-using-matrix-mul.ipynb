{
 "cells": [
  {
   "cell_type": "markdown",
   "metadata": {},
   "source": [
    "### Implementing State Vector Simulation using matrix multiplication (dot product)\n",
    "Improved the matrix multiplication steps"
   ]
  },
  {
   "cell_type": "code",
   "execution_count": 1,
   "metadata": {},
   "outputs": [],
   "source": [
    "import numpy as np\n",
    "# Identity gate (I)\n",
    "I = np.array([\n",
    "    [1, 0],\n",
    "    [0, 1]\n",
    "])\n",
    "# Pauli-X gate (X)\n",
    "X = np.array([\n",
    "    [0, 1],\n",
    "    [1, 0]\n",
    "])\n",
    "# Hadamard gate (H)\n",
    "H = (1 / np.sqrt(2)) * np.array([\n",
    "    [1,  1],\n",
    "    [1, -1]\n",
    "])\n",
    "# CNOT gate matrix\n",
    "CX = np.array([\n",
    "    [1, 0, 0, 0],\n",
    "    [0, 1, 0, 0],\n",
    "    [0, 0, 0, 1],\n",
    "    [0, 0, 1, 0]\n",
    "])"
   ]
  },
  {
   "cell_type": "code",
   "execution_count": 2,
   "metadata": {},
   "outputs": [],
   "source": [
    "# number of qubits = n\n",
    "def apply_on_n_qubits(X_n, H_n, CX_n, n):\n",
    "    # state of qubit\n",
    "    state = np.zeros(2**n)\n",
    "    state[0] = 1 # initial state = 000...\n",
    "    # applying all gates on all qubits \n",
    "    state = X_n @ state\n",
    "    state = H_n @ state\n",
    "    state = CX_n @ state\n",
    "    return state"
   ]
  },
  {
   "cell_type": "code",
   "execution_count": 3,
   "metadata": {},
   "outputs": [
    {
     "name": "stdout",
     "output_type": "stream",
     "text": [
      "2\n",
      "3\n",
      "4\n",
      "5\n",
      "6\n",
      "7\n",
      "8\n",
      "9\n",
      "10\n",
      "11\n",
      "12\n",
      "13\n",
      "14\n"
     ]
    },
    {
     "ename": "MemoryError",
     "evalue": "Unable to allocate 8.00 GiB for an array with shape (16384, 2, 16384, 2) and data type int64",
     "output_type": "error",
     "traceback": [
      "\u001b[1;31m---------------------------------------------------------------------------\u001b[0m",
      "\u001b[1;31mMemoryError\u001b[0m                               Traceback (most recent call last)",
      "Cell \u001b[1;32mIn[3], line 14\u001b[0m\n\u001b[0;32m     12\u001b[0m H_n \u001b[38;5;241m=\u001b[39m np\u001b[38;5;241m.\u001b[39mkron(H_n, H)\n\u001b[0;32m     13\u001b[0m \u001b[38;5;28;01mif\u001b[39;00m(n\u001b[38;5;241m%\u001b[39m\u001b[38;5;241m2\u001b[39m): \u001b[38;5;66;03m# if odd n\u001b[39;00m\n\u001b[1;32m---> 14\u001b[0m     CX_n_odd \u001b[38;5;241m=\u001b[39m \u001b[43mnp\u001b[49m\u001b[38;5;241;43m.\u001b[39;49m\u001b[43mkron\u001b[49m\u001b[43m(\u001b[49m\u001b[43mCX_n\u001b[49m\u001b[43m,\u001b[49m\u001b[43m \u001b[49m\u001b[43mI\u001b[49m\u001b[43m)\u001b[49m\n\u001b[0;32m     15\u001b[0m     \u001b[38;5;66;03m# apply_on_n_qubits(X_n, H_n, CX_n_odd, n)\u001b[39;00m\n\u001b[0;32m     16\u001b[0m     state_n\u001b[38;5;241m.\u001b[39mappend(apply_on_n_qubits(X_n, H_n, CX_n_odd, n))\n",
      "File \u001b[1;32md:\\CodeTheQ\\QOSF-Screening-Tasks\\State-Vector-Simulation\\.conda\\Lib\\site-packages\\numpy\\lib\\_shape_base_impl.py:1204\u001b[0m, in \u001b[0;36mkron\u001b[1;34m(a, b)\u001b[0m\n\u001b[0;32m   1202\u001b[0m b_arr \u001b[38;5;241m=\u001b[39m expand_dims(b_arr, axis\u001b[38;5;241m=\u001b[39m\u001b[38;5;28mtuple\u001b[39m(\u001b[38;5;28mrange\u001b[39m(\u001b[38;5;241m0\u001b[39m, nd\u001b[38;5;241m*\u001b[39m\u001b[38;5;241m2\u001b[39m, \u001b[38;5;241m2\u001b[39m)))\n\u001b[0;32m   1203\u001b[0m \u001b[38;5;66;03m# In case of `mat`, convert result to `array`\u001b[39;00m\n\u001b[1;32m-> 1204\u001b[0m result \u001b[38;5;241m=\u001b[39m \u001b[43m_nx\u001b[49m\u001b[38;5;241;43m.\u001b[39;49m\u001b[43mmultiply\u001b[49m\u001b[43m(\u001b[49m\u001b[43ma_arr\u001b[49m\u001b[43m,\u001b[49m\u001b[43m \u001b[49m\u001b[43mb_arr\u001b[49m\u001b[43m,\u001b[49m\u001b[43m \u001b[49m\u001b[43msubok\u001b[49m\u001b[38;5;241;43m=\u001b[39;49m\u001b[43m(\u001b[49m\u001b[38;5;129;43;01mnot\u001b[39;49;00m\u001b[43m \u001b[49m\u001b[43mis_any_mat\u001b[49m\u001b[43m)\u001b[49m\u001b[43m)\u001b[49m\n\u001b[0;32m   1206\u001b[0m \u001b[38;5;66;03m# Reshape back\u001b[39;00m\n\u001b[0;32m   1207\u001b[0m result \u001b[38;5;241m=\u001b[39m result\u001b[38;5;241m.\u001b[39mreshape(_nx\u001b[38;5;241m.\u001b[39mmultiply(as_, bs))\n",
      "\u001b[1;31mMemoryError\u001b[0m: Unable to allocate 8.00 GiB for an array with shape (16384, 2, 16384, 2) and data type int64"
     ]
    }
   ],
   "source": [
    "import time\n",
    "X_n = X\n",
    "H_n = H\n",
    "CX_n = CX\n",
    "time_taken = []\n",
    "state_n = []\n",
    "N = 18\n",
    "\n",
    "for n in range(2, N):\n",
    "    start = time.time()\n",
    "    X_n = np.kron(X_n, X)\n",
    "    H_n = np.kron(H_n, H)\n",
    "    if(n%2): # if odd n\n",
    "        CX_n_odd = np.kron(CX_n, I)\n",
    "        # apply_on_n_qubits(X_n, H_n, CX_n_odd, n)\n",
    "        state_n.append(apply_on_n_qubits(X_n, H_n, CX_n_odd, n))\n",
    "        k = CX_n.shape[0]\n",
    "        # print(n, \"inside if\", k)\n",
    "    else: # if even n\n",
    "        if(n!=2):\n",
    "            CX_n = np.kron(CX_n, CX) # extracting CX_n before kron with I\n",
    "        # apply_on_n_qubits(X_n, H_n, CX_n, n)\n",
    "        state_n.append(apply_on_n_qubits(X_n, H_n, CX_n, n))\n",
    "        # print(n, \"inside elif\")\n",
    "    # print(n,CX_n.shape)\n",
    "    time_taken.append(time.time() - start)\n",
    "    print(n)"
   ]
  },
  {
   "cell_type": "code",
   "execution_count": null,
   "metadata": {},
   "outputs": [],
   "source": [
    "# state_n"
   ]
  },
  {
   "cell_type": "code",
   "execution_count": 4,
   "metadata": {},
   "outputs": [
    {
     "name": "stdout",
     "output_type": "stream",
     "text": [
      "[0.0, 0.0, 0.0, 0.0, 0.0010030269622802734, 0.00099945068359375, 0.001995563507080078, 0.012000083923339844, 0.03495383262634277, 0.14006519317626953, 0.5283787250518799, 2.3660051822662354, 11.218851804733276]\n"
     ]
    }
   ],
   "source": [
    "# time_taken = np.array(time_taken)\n",
    "n_values = [i for i in range(2,(len(time_taken))+2)]\n",
    "print(time_taken)"
   ]
  },
  {
   "cell_type": "code",
   "execution_count": 5,
   "metadata": {},
   "outputs": [
    {
     "data": {
      "image/png": "[encoded data removed]",
      "text/plain": [
       "<Figure size 640x480 with 1 Axes>"
      ]
     },
     "metadata": {},
     "output_type": "display_data"
    }
   ],
   "source": [
    "import matplotlib.pyplot as plt\n",
    "plt.plot(n_values, time_taken, marker='o')\n",
    "plt.xlabel(\"n_values\")\n",
    "plt.ylabel(\"time_taken  (in sec)\")\n",
    "plt.grid(True)\n",
    "plt.show()"
   ]
  },
  {
   "cell_type": "code",
   "execution_count": null,
   "metadata": {},
   "outputs": [],
   "source": []
  }
 ],
 "metadata": {
  "kernelspec": {
   "display_name": "Python 3",
   "language": "python",
   "name": "python3"
  },
  "language_info": {
   "codemirror_mode": {
    "name": "ipython",
    "version": 3
   },
   "file_extension": ".py",
   "mimetype": "text/x-python",
   "name": "python",
   "nbconvert_exporter": "python",
   "pygments_lexer": "ipython3",
   "version": "3.12.7"
  }
 },
 "nbformat": 4,
 "nbformat_minor": 2
}
