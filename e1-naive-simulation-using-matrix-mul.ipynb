{
 "cells": [
  {
   "cell_type": "markdown",
   "metadata": {},
   "source": [
    "### Implementing State Vector Simulation using matrix multiplication (dot product)"
   ]
  },
  {
   "cell_type": "code",
   "execution_count": 1,
   "metadata": {},
   "outputs": [],
   "source": [
    "import numpy as np\n",
    "# Identity gate (I)\n",
    "I = np.array([\n",
    "    [1, 0],\n",
    "    [0, 1]\n",
    "])\n",
    "# Pauli-X gate (X)\n",
    "X = np.array([\n",
    "    [0, 1],\n",
    "    [1, 0]\n",
    "])\n",
    "# Hadamard gate (H)\n",
    "H = (1 / np.sqrt(2)) * np.array([\n",
    "    [1,  1],\n",
    "    [1, -1]\n",
    "])\n",
    "# CNOT gate matrix\n",
    "CX = np.array([\n",
    "    [1, 0, 0, 0],\n",
    "    [0, 1, 0, 0],\n",
    "    [0, 0, 0, 1],\n",
    "    [0, 0, 1, 0]\n",
    "])"
   ]
  },
  {
   "cell_type": "code",
   "execution_count": 2,
   "metadata": {},
   "outputs": [],
   "source": [
    "# number of qubits = n\n",
    "def apply_on_n_qubits(n):\n",
    "    X_n = X\n",
    "    H_n = H\n",
    "    CX_n = CX\n",
    "    for i in range(1,n):\n",
    "        X_n = np.kron(X_n, X)\n",
    "        H_n = np.kron(H_n, H)\n",
    "\n",
    "    for i in range(1,int(n/2)):\n",
    "        CX_n = np.kron(CX_n, CX)\n",
    "    if(n%2):\n",
    "        CX_n = np.kron(CX_n, I)\n",
    "    # state of qubit\n",
    "    state = np.zeros(2**n)\n",
    "    state[0] = 1 # initial state = 000...\n",
    "    # applying all gates on all qubits \n",
    "    state = X_n @ state\n",
    "    state = H_n @ state\n",
    "    state = CX_n @ state\n",
    "    return state"
   ]
  },
  {
   "cell_type": "code",
   "execution_count": 3,
   "metadata": {},
   "outputs": [
    {
     "name": "stdout",
     "output_type": "stream",
     "text": [
      "2\n",
      "3\n",
      "4\n",
      "5\n",
      "6\n",
      "7\n",
      "8\n",
      "9\n",
      "10\n",
      "11\n",
      "12\n",
      "13\n"
     ]
    },
    {
     "ename": "MemoryError",
     "evalue": "Unable to allocate 2.00 GiB for an array with shape (8192, 2, 8192, 2) and data type float64",
     "output_type": "error",
     "traceback": [
      "\u001b[1;31m---------------------------------------------------------------------------\u001b[0m",
      "\u001b[1;31mMemoryError\u001b[0m                               Traceback (most recent call last)",
      "Cell \u001b[1;32mIn[3], line 9\u001b[0m\n\u001b[0;32m      7\u001b[0m start \u001b[38;5;241m=\u001b[39m time\u001b[38;5;241m.\u001b[39mtime()\n\u001b[0;32m      8\u001b[0m \u001b[38;5;66;03m# state_n.append(apply_on_n_qubits(n))\u001b[39;00m\n\u001b[1;32m----> 9\u001b[0m \u001b[43mapply_on_n_qubits\u001b[49m\u001b[43m(\u001b[49m\u001b[43mn\u001b[49m\u001b[43m)\u001b[49m\n\u001b[0;32m     10\u001b[0m time_taken\u001b[38;5;241m.\u001b[39mappend(time\u001b[38;5;241m.\u001b[39mtime() \u001b[38;5;241m-\u001b[39m start)\n\u001b[0;32m     11\u001b[0m \u001b[38;5;28mprint\u001b[39m(n)\n",
      "Cell \u001b[1;32mIn[2], line 8\u001b[0m, in \u001b[0;36mapply_on_n_qubits\u001b[1;34m(n)\u001b[0m\n\u001b[0;32m      6\u001b[0m \u001b[38;5;28;01mfor\u001b[39;00m i \u001b[38;5;129;01min\u001b[39;00m \u001b[38;5;28mrange\u001b[39m(\u001b[38;5;241m1\u001b[39m,n):\n\u001b[0;32m      7\u001b[0m     X_n \u001b[38;5;241m=\u001b[39m np\u001b[38;5;241m.\u001b[39mkron(X_n, X)\n\u001b[1;32m----> 8\u001b[0m     H_n \u001b[38;5;241m=\u001b[39m \u001b[43mnp\u001b[49m\u001b[38;5;241;43m.\u001b[39;49m\u001b[43mkron\u001b[49m\u001b[43m(\u001b[49m\u001b[43mH_n\u001b[49m\u001b[43m,\u001b[49m\u001b[43m \u001b[49m\u001b[43mH\u001b[49m\u001b[43m)\u001b[49m\n\u001b[0;32m     10\u001b[0m \u001b[38;5;28;01mfor\u001b[39;00m i \u001b[38;5;129;01min\u001b[39;00m \u001b[38;5;28mrange\u001b[39m(\u001b[38;5;241m1\u001b[39m,\u001b[38;5;28mint\u001b[39m(n\u001b[38;5;241m/\u001b[39m\u001b[38;5;241m2\u001b[39m)):\n\u001b[0;32m     11\u001b[0m     CX_n \u001b[38;5;241m=\u001b[39m np\u001b[38;5;241m.\u001b[39mkron(CX_n, CX)\n",
      "File \u001b[1;32md:\\CodeTheQ\\QOSF-Screening-Tasks\\State-Vector-Simulation\\.conda\\Lib\\site-packages\\numpy\\lib\\_shape_base_impl.py:1204\u001b[0m, in \u001b[0;36mkron\u001b[1;34m(a, b)\u001b[0m\n\u001b[0;32m   1202\u001b[0m b_arr \u001b[38;5;241m=\u001b[39m expand_dims(b_arr, axis\u001b[38;5;241m=\u001b[39m\u001b[38;5;28mtuple\u001b[39m(\u001b[38;5;28mrange\u001b[39m(\u001b[38;5;241m0\u001b[39m, nd\u001b[38;5;241m*\u001b[39m\u001b[38;5;241m2\u001b[39m, \u001b[38;5;241m2\u001b[39m)))\n\u001b[0;32m   1203\u001b[0m \u001b[38;5;66;03m# In case of `mat`, convert result to `array`\u001b[39;00m\n\u001b[1;32m-> 1204\u001b[0m result \u001b[38;5;241m=\u001b[39m \u001b[43m_nx\u001b[49m\u001b[38;5;241;43m.\u001b[39;49m\u001b[43mmultiply\u001b[49m\u001b[43m(\u001b[49m\u001b[43ma_arr\u001b[49m\u001b[43m,\u001b[49m\u001b[43m \u001b[49m\u001b[43mb_arr\u001b[49m\u001b[43m,\u001b[49m\u001b[43m \u001b[49m\u001b[43msubok\u001b[49m\u001b[38;5;241;43m=\u001b[39;49m\u001b[43m(\u001b[49m\u001b[38;5;129;43;01mnot\u001b[39;49;00m\u001b[43m \u001b[49m\u001b[43mis_any_mat\u001b[49m\u001b[43m)\u001b[49m\u001b[43m)\u001b[49m\n\u001b[0;32m   1206\u001b[0m \u001b[38;5;66;03m# Reshape back\u001b[39;00m\n\u001b[0;32m   1207\u001b[0m result \u001b[38;5;241m=\u001b[39m result\u001b[38;5;241m.\u001b[39mreshape(_nx\u001b[38;5;241m.\u001b[39mmultiply(as_, bs))\n",
      "\u001b[1;31mMemoryError\u001b[0m: Unable to allocate 2.00 GiB for an array with shape (8192, 2, 8192, 2) and data type float64"
     ]
    }
   ],
   "source": [
    "import time\n",
    "time_taken = []\n",
    "state_n = []\n",
    "N = 15\n",
    "\n",
    "for n in range(2, N):\n",
    "    start = time.time()\n",
    "    # state_n.append(apply_on_n_qubits(n))\n",
    "    apply_on_n_qubits(n)\n",
    "    time_taken.append(time.time() - start)\n",
    "    print(n)"
   ]
  },
  {
   "cell_type": "code",
   "execution_count": 4,
   "metadata": {},
   "outputs": [
    {
     "name": "stdout",
     "output_type": "stream",
     "text": [
      "[0.0010039806365966797, 0.0, 0.0, 0.0009987354278564453, 0.0, 0.0009970664978027344, 0.0039997100830078125, 0.015002965927124023, 0.04477882385253906, 0.18810343742370605, 0.7363779544830322, 4.115805625915527]\n"
     ]
    }
   ],
   "source": [
    "# time_taken = np.array(time_taken)\n",
    "n_values = [i for i in range(2,(len(time_taken))+2)]\n",
    "print(time_taken)"
   ]
  },
  {
   "cell_type": "code",
   "execution_count": 5,
   "metadata": {},
   "outputs": [],
   "source": [
    "# state_n"
   ]
  },
  {
   "cell_type": "code",
   "execution_count": 6,
   "metadata": {},
   "outputs": [
    {
     "data": {
      "image/png": "[encoded data removed]",
      "text/plain": [
       "<Figure size 640x480 with 1 Axes>"
      ]
     },
     "metadata": {},
     "output_type": "display_data"
    }
   ],
   "source": [
    "import matplotlib.pyplot as plt\n",
    "plt.plot(n_values, time_taken, marker='o')\n",
    "plt.xlabel(\"n_values\")\n",
    "plt.ylabel(\"time_taken (in sec)\")\n",
    "plt.grid(True)\n",
    "plt.show()"
   ]
  },
  {
   "cell_type": "code",
   "execution_count": null,
   "metadata": {},
   "outputs": [],
   "source": []
  }
 ],
 "metadata": {
  "kernelspec": {
   "display_name": "Python 3",
   "language": "python",
   "name": "python3"
  },
  "language_info": {
   "codemirror_mode": {
    "name": "ipython",
    "version": 3
   },
   "file_extension": ".py",
   "mimetype": "text/x-python",
   "name": "python",
   "nbconvert_exporter": "python",
   "pygments_lexer": "ipython3",
   "version": "3.12.7"
  }
 },
 "nbformat": 4,
 "nbformat_minor": 2
}
