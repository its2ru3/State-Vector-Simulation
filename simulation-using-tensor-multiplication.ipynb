{
 "cells": [
  {
   "cell_type": "markdown",
   "metadata": {},
   "source": [
    "### Implementing State Vector Simulation using tensor multiplication (kronecker product)\n"
   ]
  },
  {
   "cell_type": "code",
   "execution_count": 2,
   "metadata": {},
   "outputs": [],
   "source": [
    "import numpy as np\n",
    "\n",
    "# Identity gate (I)\n",
    "I = np.array([\n",
    "    [1, 0],\n",
    "    [0, 1]\n",
    "])\n",
    "# Pauli-X gate (X)\n",
    "X = np.array([\n",
    "    [0, 1],\n",
    "    [1, 0]\n",
    "])\n",
    "# Hadamard gate (H)\n",
    "H = (1 / np.sqrt(2)) * np.array([\n",
    "    [1,  1],\n",
    "    [1, -1]\n",
    "])\n",
    "# CNOT gate matrix\n",
    "CX = np.array([\n",
    "    [1, 0, 0, 0],\n",
    "    [0, 1, 0, 0],\n",
    "    [0, 0, 0, 1],\n",
    "    [0, 0, 1, 0]\n",
    "]).reshape(2,2,2,2)"
   ]
  },
  {
   "cell_type": "code",
   "execution_count": null,
   "metadata": {},
   "outputs": [],
   "source": [
    "def apply_on_n_qubits_tensor(n):\n",
    "    state_tensor = np.zeros((2,)*n)\n",
    "    state_tensor[(0,)*n] = 1 # initial state = 000...\n",
    "    # applying X gate on all qubits\n",
    "    for i in range(n):\n",
    "        # applying X gate on qubit i\n",
    "        state_tensor = np.tensordot(X, state_tensor, axes=(1,i))\n",
    "        state_tensor = np.moveaxis(state_tensor, 0, i)\n",
    "        # applying H gate on qubit i\n",
    "        state_tensor = np.tensordot(H, state_tensor, axes=(1,i))\n",
    "        state_tensor = np.moveaxis(state_tensor, 0, i)\n",
    "    # applying CX gate between each consecutive pair of qubits (qubits 0-1, 2-3, 3-4 and so on)\n",
    "    for i in range(n-1):\n",
    "        if(i%2):\n",
    "            axes = ([2,3], [i, i + 1]) \n",
    "            state_tensor = np.tensordot(CX, state_tensor, axes=axes)\n",
    "            # moving the resulting axes to maintain the original qubit ordering\n",
    "            state_tensor = np.moveaxis(state_tensor, [0, 1], [i, i + 1])\n",
    "    return state_tensor"
   ]
  },
  {
   "cell_type": "code",
   "execution_count": 13,
   "metadata": {},
   "outputs": [
    {
     "name": "stdout",
     "output_type": "stream",
     "text": [
      "[0.0010030269622802734, 0.0, 0.0009961128234863281, 0.0, 0.0009989738464355469, 0.0010008811950683594, 0.0, 0.002239227294921875, 0.0011069774627685547, 0.0020093917846679688, 0.0011975765228271484, 0.0030460357666015625, 0.0029616355895996094, 0.005002737045288086, 0.010012149810791016, 0.046304941177368164, 0.08253931999206543, 0.17574191093444824, 0.3684248924255371, 0.747596025466919, 1.564124584197998, 3.25070858001709, 6.568576812744141, 12.480493545532227, 26.573132276535034, 59.6760139465332, 120.84210181236267, 263.8944683074951]\n"
     ]
    }
   ],
   "source": [
    "import time\n",
    "time_taken = []\n",
    "state_tensor_n = []\n",
    "N = 30\n",
    "for n in range(2, N):\n",
    "    start = time.time()\n",
    "    state_tensor_n.append(apply_on_n_qubits_tensor(n).flatten())\n",
    "    time_taken.append(time.time() - start)\n",
    "\n",
    "# time_taken = np.array(time_taken)\n",
    "n_values = [i for i in range(2,N)]\n",
    "print(time_taken)"
   ]
  },
  {
   "cell_type": "code",
   "execution_count": 11,
   "metadata": {},
   "outputs": [],
   "source": [
    "# state_tensor_n"
   ]
  },
  {
   "cell_type": "code",
   "execution_count": 14,
   "metadata": {},
   "outputs": [
    {
     "data": {
      "image/png": "[encoded data removed]",
      "text/plain": [
       "<Figure size 640x480 with 1 Axes>"
      ]
     },
     "metadata": {},
     "output_type": "display_data"
    }
   ],
   "source": [
    "import matplotlib.pyplot as plt\n",
    "plt.plot(n_values, time_taken, marker='o')\n",
    "plt.xlabel(\"n_values\")\n",
    "plt.ylabel(\"time_taken\")\n",
    "plt.grid(True)\n",
    "plt.show()"
   ]
  },
  {
   "cell_type": "code",
   "execution_count": null,
   "metadata": {},
   "outputs": [],
   "source": []
  }
 ],
 "metadata": {
  "kernelspec": {
   "display_name": "Python 3",
   "language": "python",
   "name": "python3"
  },
  "language_info": {
   "codemirror_mode": {
    "name": "ipython",
    "version": 3
   },
   "file_extension": ".py",
   "mimetype": "text/x-python",
   "name": "python",
   "nbconvert_exporter": "python",
   "pygments_lexer": "ipython3",
   "version": "3.12.7"
  }
 },
 "nbformat": 4,
 "nbformat_minor": 2
}
