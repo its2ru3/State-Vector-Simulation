{
 "cells": [
  {
   "cell_type": "code",
   "execution_count": null,
   "metadata": {},
   "outputs": [
    {
     "name": "stdout",
     "output_type": "stream",
     "text": [
      "[[[1. 0.]\n",
      "  [0. 0.]]\n",
      "\n",
      " [[0. 0.]\n",
      "  [0. 0.]]]\n"
     ]
    }
   ],
   "source": [
    "n = 3\n",
    "state_tensor = np.zeros((2,)*n)\n",
    "state_tensor[(0,)*n] = 1\n",
    "print(state_tensor)\n",
    "# OR\n",
    "# state = np.zeros(2**n)\n",
    "# state[0] = 1\n",
    "# state_t = state.reshape((2,)*n)\n",
    "# print(state_t)"
   ]
  },
  {
   "cell_type": "code",
   "execution_count": null,
   "metadata": {},
   "outputs": [
    {
     "name": "stdout",
     "output_type": "stream",
     "text": [
      "('000', 0)\n",
      "('001', 0)\n",
      "('010', 0)\n",
      "('011', 0)\n",
      "('100', 0)\n",
      "('101', 0)\n",
      "('110', 1)\n",
      "('111', 0)\n"
     ]
    }
   ],
   "source": [
    "# tensor state to normal state representation\n",
    "state_array = state_tensor.flatten()\n",
    "for index,val in enumerate(state_array):\n",
    "    print((bin(index)[2:].zfill(n), int(val)))"
   ]
  },
  {
   "cell_type": "code",
   "execution_count": null,
   "metadata": {},
   "outputs": [
    {
     "name": "stdout",
     "output_type": "stream",
     "text": [
      "[[[0. 0.]\n",
      "  [0. 0.]]\n",
      "\n",
      " [[1. 0.]\n",
      "  [0. 0.]]]\n"
     ]
    }
   ],
   "source": [
    "i = 0\n",
    "state_tensor = np.tensordot(X, state_tensor, axes=(1, i)) \n",
    "state_tensor = np.moveaxis(state_tensor, 0, i)\n",
    "print(state_tensor)"
   ]
  },
  {
   "cell_type": "code",
   "execution_count": null,
   "metadata": {},
   "outputs": [
    {
     "name": "stdout",
     "output_type": "stream",
     "text": [
      "[[[0. 0.]\n",
      "  [0. 0.]]\n",
      "\n",
      " [[0. 0.]\n",
      "  [1. 0.]]]\n"
     ]
    }
   ],
   "source": [
    "control = 0\n",
    "target = 1\n",
    "\n",
    "# Apply CX gate using tensordot on control and target qubits\n",
    "state_tensor = np.tensordot(CX, state_tensor, axes=([2, 3], [control, target]))\n",
    "# Move axes to retain the original shape (2, 2, ..., 2)\n",
    "state_tensor = np.moveaxis(state_tensor, [0, 1], [control, target])\n",
    "print(state_tensor)"
   ]
  },
  {
   "cell_type": "code",
   "execution_count": null,
   "metadata": {},
   "outputs": [
    {
     "name": "stdout",
     "output_type": "stream",
     "text": [
      "[[[ 0.70710678  0.        ]\n",
      "  [ 0.          0.        ]]\n",
      "\n",
      " [[-0.70710678  0.        ]\n",
      "  [ 0.          0.        ]]]\n"
     ]
    }
   ],
   "source": [
    "# applying H gate on qubit 0\n",
    "state_tensor = np.tensordot(H, state_tensor, axes=(1,0))\n",
    "print(state_tensor)"
   ]
  },
  {
   "cell_type": "code",
   "execution_count": null,
   "metadata": {},
   "outputs": [
    {
     "name": "stdout",
     "output_type": "stream",
     "text": [
      "[[[0.70710678 0.        ]\n",
      "  [0.         0.        ]]\n",
      "\n",
      " [[0.70710678 0.        ]\n",
      "  [0.         0.        ]]]\n"
     ]
    }
   ],
   "source": [
    "# Move the resulting axis to the first position to keep the shape consistent\n",
    "state_tensor = np.moveaxis(state_tensor, 0, 0)\n",
    "print(state_tensor)"
   ]
  },
  {
   "cell_type": "code",
   "execution_count": null,
   "metadata": {},
   "outputs": [
    {
     "name": "stdout",
     "output_type": "stream",
     "text": [
      "[[[0.70710678 0.        ]\n",
      "  [0.         0.        ]]\n",
      "\n",
      " [[0.         0.        ]\n",
      "  [0.70710678 0.        ]]]\n"
     ]
    }
   ],
   "source": [
    "# Rearrange axes to keep the shape consistent as (2, 2, 2)\n",
    "state_tensor = np.moveaxis(state_tensor, [0, 1], [0, 1])\n",
    "print(state_tensor)"
   ]
  }
 ],
 "metadata": {
  "language_info": {
   "name": "python"
  }
 },
 "nbformat": 4,
 "nbformat_minor": 2
}
